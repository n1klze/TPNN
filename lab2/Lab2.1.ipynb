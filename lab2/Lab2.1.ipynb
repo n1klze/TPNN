{
 "cells": [
  {
   "cell_type": "code",
   "execution_count": 13,
   "metadata": {},
   "outputs": [],
   "source": [
    "import numpy as np\n",
    "import pandas as pd\n",
    "from mlp import Perceptron, save_weights, load_weights\n",
    "from sklearn.model_selection import train_test_split\n",
    "from sklearn.preprocessing import StandardScaler"
   ]
  },
  {
   "cell_type": "code",
   "execution_count": 14,
   "metadata": {},
   "outputs": [],
   "source": [
    "def load_and_preprocess_data(filepath: str) -> pd.DataFrame:\n",
    "    dt = pd.read_csv(filepath, delimiter=\",\")\n",
    "    numeric_cols = [\n",
    "        \"Processor_Speed\",\n",
    "        \"RAM_Size\",\n",
    "        \"Storage_Capacity\",\n",
    "        \"Screen_Size\",\n",
    "        \"Weight\",\n",
    "    ]\n",
    "    categorical_cols = [\"Brand\"]\n",
    "    scaler = StandardScaler()\n",
    "    dt[numeric_cols] = scaler.fit_transform(dt[numeric_cols])\n",
    "    dt = pd.get_dummies(dt, columns=categorical_cols)\n",
    "\n",
    "    return dt"
   ]
  },
  {
   "cell_type": "code",
   "execution_count": 15,
   "metadata": {},
   "outputs": [],
   "source": [
    "data = load_and_preprocess_data(\"Laptop_price.csv\")\n",
    "y = data[\"Price\"].values\n",
    "X = data.drop(\"Price\", axis=1).values\n",
    "X_train, X_test, y_train, y_test = train_test_split(X, y, test_size=0.2)\n"
   ]
  },
  {
   "cell_type": "code",
   "execution_count": 16,
   "metadata": {},
   "outputs": [
    {
     "data": {
      "application/vnd.jupyter.widget-view+json": {
       "model_id": "da372e4601b242188389973803308a49",
       "version_major": 2,
       "version_minor": 0
      },
      "text/plain": [
       "  0%|          | 0/600 [00:00<?, ?it/s]"
      ]
     },
     "metadata": {},
     "output_type": "display_data"
    },
    {
     "name": "stdout",
     "output_type": "stream",
     "text": [
      "Root Mean Squared Error on Test Set: 113.28162014728728\n",
      "\n",
      "R2 score = 0.9995572314029263\n"
     ]
    }
   ],
   "source": [
    "def root_mean_squared_error(y_true, y_pred):\n",
    "    diff = y_true - y_pred\n",
    "    differences_squared = diff**2\n",
    "    mean_diff = differences_squared.mean()\n",
    "    rmse_val = np.sqrt(mean_diff)\n",
    "    return np.average(rmse_val) ** 0.5\n",
    "\n",
    "\n",
    "hidden_size = 5\n",
    "output_size = 1\n",
    "\n",
    "\n",
    "def my_r2_score(y_t, y_pred):\n",
    "    corr_matrix = np.corrcoef(y_t, y_pred.flatten(), dtype=float)\n",
    "    corr = corr_matrix[0, 1]\n",
    "    return corr**2\n",
    "\n",
    "\n",
    "mlp = Perceptron(X_train.shape[1], hidden_size, output_size)\n",
    "# mlp = load_weights(filename=\"mlp_weights.pkl\")\n",
    "\n",
    "mlp.train(X_train, y_train, learning_rate=0.00000001, epochs=600)\n",
    "save_weights(mlp, \"mlp_weights.pkl\")\n",
    "\n",
    "predictions = mlp.predict(X_test)\n",
    "r2 = my_r2_score(y_test, predictions)\n",
    "rmse = root_mean_squared_error(y_test, predictions)\n",
    "\n",
    "print(f\"Root Mean Squared Error on Test Set: {rmse}\\n\")\n",
    "print(f\"R2 score = {r2}\")"
   ]
  },
  {
   "cell_type": "code",
   "execution_count": null,
   "metadata": {},
   "outputs": [],
   "source": []
  },
  {
   "cell_type": "code",
   "execution_count": null,
   "metadata": {},
   "outputs": [],
   "source": []
  }
 ],
 "metadata": {
  "kernelspec": {
   "display_name": "Python 3 (ipykernel)",
   "language": "python",
   "name": "python3"
  },
  "language_info": {
   "codemirror_mode": {
    "name": "ipython",
    "version": 3
   },
   "file_extension": ".py",
   "mimetype": "text/x-python",
   "name": "python",
   "nbconvert_exporter": "python",
   "pygments_lexer": "ipython3",
   "version": "3.10.9"
  }
 },
 "nbformat": 4,
 "nbformat_minor": 2
}
